{
 "cells": [
  {
   "cell_type": "code",
   "execution_count": 1,
   "id": "55204b9d",
   "metadata": {},
   "outputs": [],
   "source": [
    "import pandas as pd"
   ]
  },
  {
   "cell_type": "code",
   "execution_count": 2,
   "id": "ddd7071a",
   "metadata": {},
   "outputs": [],
   "source": [
    "a=pd.read_csv(\"Sale Report.csv\") #stock report"
   ]
  },
  {
   "cell_type": "code",
   "execution_count": 3,
   "id": "1d162af3",
   "metadata": {},
   "outputs": [
    {
     "name": "stdout",
     "output_type": "stream",
     "text": [
      "<class 'pandas.core.frame.DataFrame'>\n",
      "RangeIndex: 9271 entries, 0 to 9270\n",
      "Data columns (total 7 columns):\n",
      " #   Column            Non-Null Count  Dtype  \n",
      "---  ------            --------------  -----  \n",
      " 0   index             9271 non-null   int64  \n",
      " 1   Product_SKU       9188 non-null   object \n",
      " 2   Design_Number     9235 non-null   object \n",
      " 3   Stock_Level       9235 non-null   float64\n",
      " 4   Product_Category  9226 non-null   object \n",
      " 5   Product_Size      9235 non-null   object \n",
      " 6   Product_Color     9226 non-null   object \n",
      "dtypes: float64(1), int64(1), object(5)\n",
      "memory usage: 507.1+ KB\n"
     ]
    }
   ],
   "source": [
    "a.info()"
   ]
  },
  {
   "cell_type": "code",
   "execution_count": 4,
   "id": "1f6dc85a",
   "metadata": {},
   "outputs": [
    {
     "data": {
      "text/html": [
       "<div>\n",
       "<style scoped>\n",
       "    .dataframe tbody tr th:only-of-type {\n",
       "        vertical-align: middle;\n",
       "    }\n",
       "\n",
       "    .dataframe tbody tr th {\n",
       "        vertical-align: top;\n",
       "    }\n",
       "\n",
       "    .dataframe thead th {\n",
       "        text-align: right;\n",
       "    }\n",
       "</style>\n",
       "<table border=\"1\" class=\"dataframe\">\n",
       "  <thead>\n",
       "    <tr style=\"text-align: right;\">\n",
       "      <th></th>\n",
       "      <th>index</th>\n",
       "      <th>Product_SKU</th>\n",
       "      <th>Design_Number</th>\n",
       "      <th>Stock_Level</th>\n",
       "      <th>Product_Category</th>\n",
       "      <th>Product_Size</th>\n",
       "      <th>Product_Color</th>\n",
       "    </tr>\n",
       "  </thead>\n",
       "  <tbody>\n",
       "    <tr>\n",
       "      <th>0</th>\n",
       "      <td>0</td>\n",
       "      <td>AN201-RED-L</td>\n",
       "      <td>AN201</td>\n",
       "      <td>5.0</td>\n",
       "      <td>AN : LEGGINGS</td>\n",
       "      <td>L</td>\n",
       "      <td>Red</td>\n",
       "    </tr>\n",
       "    <tr>\n",
       "      <th>1</th>\n",
       "      <td>1</td>\n",
       "      <td>AN201-RED-M</td>\n",
       "      <td>AN201</td>\n",
       "      <td>5.0</td>\n",
       "      <td>AN : LEGGINGS</td>\n",
       "      <td>M</td>\n",
       "      <td>Red</td>\n",
       "    </tr>\n",
       "    <tr>\n",
       "      <th>2</th>\n",
       "      <td>2</td>\n",
       "      <td>AN201-RED-S</td>\n",
       "      <td>AN201</td>\n",
       "      <td>3.0</td>\n",
       "      <td>AN : LEGGINGS</td>\n",
       "      <td>S</td>\n",
       "      <td>Red</td>\n",
       "    </tr>\n",
       "    <tr>\n",
       "      <th>3</th>\n",
       "      <td>3</td>\n",
       "      <td>AN201-RED-XL</td>\n",
       "      <td>AN201</td>\n",
       "      <td>6.0</td>\n",
       "      <td>AN : LEGGINGS</td>\n",
       "      <td>XL</td>\n",
       "      <td>Red</td>\n",
       "    </tr>\n",
       "    <tr>\n",
       "      <th>4</th>\n",
       "      <td>4</td>\n",
       "      <td>AN201-RED-XXL</td>\n",
       "      <td>AN201</td>\n",
       "      <td>3.0</td>\n",
       "      <td>AN : LEGGINGS</td>\n",
       "      <td>XXL</td>\n",
       "      <td>Red</td>\n",
       "    </tr>\n",
       "  </tbody>\n",
       "</table>\n",
       "</div>"
      ],
      "text/plain": [
       "   index    Product_SKU Design_Number  Stock_Level Product_Category  \\\n",
       "0      0    AN201-RED-L         AN201          5.0    AN : LEGGINGS   \n",
       "1      1    AN201-RED-M         AN201          5.0    AN : LEGGINGS   \n",
       "2      2    AN201-RED-S         AN201          3.0    AN : LEGGINGS   \n",
       "3      3   AN201-RED-XL         AN201          6.0    AN : LEGGINGS   \n",
       "4      4  AN201-RED-XXL         AN201          3.0    AN : LEGGINGS   \n",
       "\n",
       "  Product_Size Product_Color  \n",
       "0            L           Red  \n",
       "1            M           Red  \n",
       "2            S           Red  \n",
       "3           XL           Red  \n",
       "4          XXL           Red  "
      ]
     },
     "execution_count": 4,
     "metadata": {},
     "output_type": "execute_result"
    }
   ],
   "source": [
    "\n",
    "a.describe(include='all')\n",
    "a.isnull().sum()\n",
    "a.head()\n"
   ]
  },
  {
   "cell_type": "code",
   "execution_count": 5,
   "id": "d11f2fb0",
   "metadata": {},
   "outputs": [
    {
     "name": "stdout",
     "output_type": "stream",
     "text": [
      "Number of rows with at least one null or empty value: 0\n",
      "\n",
      "Count of missing values per column:\n",
      "\n",
      "index               0\n",
      "Product_SKU         0\n",
      "Design_Number       0\n",
      "Stock_Level         0\n",
      "Product_Category    0\n",
      "Product_Size        0\n",
      "Product_Color       0\n",
      "dtype: int64\n",
      "Empty DataFrame\n",
      "Columns: [index, Product_SKU, Design_Number, Stock_Level, Product_Category, Product_Size, Product_Color]\n",
      "Index: []\n"
     ]
    }
   ],
   "source": [
    "import pandas as pd\n",
    "\n",
    "# Replace empty strings (\"\") with NaN, so both are treated the same\n",
    "a = a.replace('', pd.NA)\n",
    "a = a.dropna(subset=['Product_SKU'])\n",
    "\n",
    "# Find rows where any column has a missing value\n",
    "rows_with_missing = a[a.isna().any(axis=1)]\n",
    "\n",
    "# Show count\n",
    "count_missing = len(rows_with_missing)\n",
    "print(f\"Number of rows with at least one null or empty value: {count_missing}\\n\")\n",
    "print(\"Count of missing values per column:\\n\")\n",
    "print(a.isnull().sum())\n",
    "\n",
    "# Show the actual rows\n",
    "print(rows_with_missing)\n"
   ]
  },
  {
   "cell_type": "code",
   "execution_count": 6,
   "id": "544302a7",
   "metadata": {},
   "outputs": [],
   "source": [
    "columns_to_remove = [\n",
    "    'index']\n",
    "a = a.drop(columns=columns_to_remove, errors='ignore')"
   ]
  },
  {
   "cell_type": "code",
   "execution_count": 7,
   "id": "45e3264f",
   "metadata": {},
   "outputs": [
    {
     "name": "stdout",
     "output_type": "stream",
     "text": [
      "sku          string[python]\n",
      "design_no    string[python]\n",
      "stock                 int64\n",
      "category     string[python]\n",
      "size         string[python]\n",
      "colour       string[python]\n",
      "dtype: object\n",
      "             sku design_no  stock       category size colour\n",
      "0    AN201-RED-L     AN201      5  AN : LEGGINGS    L    Red\n",
      "1    AN201-RED-M     AN201      5  AN : LEGGINGS    M    Red\n",
      "2    AN201-RED-S     AN201      3  AN : LEGGINGS    S    Red\n",
      "3   AN201-RED-XL     AN201      6  AN : LEGGINGS   XL    Red\n",
      "4  AN201-RED-XXL     AN201      3  AN : LEGGINGS  XXL    Red\n"
     ]
    }
   ],
   "source": [
    "a = a.rename(columns={\n",
    "    'Product_SKU': 'sku',\n",
    "    'Design_Number': 'design_no',\n",
    "    'Stock_Level': 'stock',\n",
    "    'Product_Category': 'category',\n",
    "    'Product_Size': 'size',\n",
    "    'Product_Color': 'colour'\n",
    "})\n",
    "a = a.astype({\n",
    "    'sku': 'string',\n",
    "    'design_no': 'string',\n",
    "    'stock': 'int',\n",
    "    'category': 'string',\n",
    "    'size': 'string',\n",
    "    'colour': 'string'\n",
    "})\n",
    "print(a.dtypes)\n",
    "print(a.head())\n"
   ]
  },
  {
   "cell_type": "code",
   "execution_count": 8,
   "id": "1e60d268",
   "metadata": {},
   "outputs": [
    {
     "data": {
      "text/plain": [
       "9188"
      ]
     },
     "execution_count": 8,
     "metadata": {},
     "output_type": "execute_result"
    }
   ],
   "source": [
    "len(a)"
   ]
  },
  {
   "cell_type": "code",
   "execution_count": 9,
   "id": "767a1ce3",
   "metadata": {},
   "outputs": [],
   "source": [
    "a.to_csv(\"new_stock_report.csv\", index=False)\n"
   ]
  }
 ],
 "metadata": {
  "kernelspec": {
   "display_name": "base",
   "language": "python",
   "name": "python3"
  },
  "language_info": {
   "codemirror_mode": {
    "name": "ipython",
    "version": 3
   },
   "file_extension": ".py",
   "mimetype": "text/x-python",
   "name": "python",
   "nbconvert_exporter": "python",
   "pygments_lexer": "ipython3",
   "version": "3.12.8"
  }
 },
 "nbformat": 4,
 "nbformat_minor": 5
}
